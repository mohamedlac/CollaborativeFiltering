{
 "cells": [
  {
   "cell_type": "code",
   "execution_count": 1,
   "metadata": {},
   "outputs": [],
   "source": [
    "# importing the libraries\n",
    "import numpy as np\n",
    "import pandas as pd\n",
    "import matplotlib.pyplot as plt"
   ]
  },
  {
   "cell_type": "code",
   "execution_count": 2,
   "metadata": {},
   "outputs": [],
   "source": [
    "#defintion of the columns\n",
    "cols = [\"user_id\",\"song_id\",\"rating\"]\n",
    "df = pd.read_csv(\"songsDataset.csv\",encoding=\"utf-8\",header=0, names=cols)"
   ]
  },
  {
   "cell_type": "code",
   "execution_count": 6,
   "metadata": {},
   "outputs": [],
   "source": [
    "#main function for creating the songs dataset\n",
    "#i have decided to compute the mean and the variance of the frequency \n",
    "def create_songs_df(df):\n",
    "    songs_id = df[\"song_id\"].unique()\n",
    "    songs_id.sort()\n",
    "    \n",
    "    rating_frequency = []\n",
    "    rating_mean = []\n",
    "    rating_var = []\n",
    "    \n",
    "    for s_id in songs_id:\n",
    "        temp_df = df[df.song_id == s_id]\n",
    "        rating_frequency.append(temp_df.rating.count())\n",
    "        rating_mean.append(temp_df.loc[:,\"rating\"].mean())\n",
    "        rating_var.append(temp_df.loc[:,\"rating\"].var())\n",
    "        \n",
    "    return pd.DataFrame({'id':songs_id,'frequency':rating_frequency,'mean':rating_mean,\n",
    "                                 \"variance\":rating_var})"
   ]
  },
  {
   "cell_type": "code",
   "execution_count": 5,
   "metadata": {},
   "outputs": [
    {
     "data": {
      "text/html": [
       "<div>\n",
       "<style scoped>\n",
       "    .dataframe tbody tr th:only-of-type {\n",
       "        vertical-align: middle;\n",
       "    }\n",
       "\n",
       "    .dataframe tbody tr th {\n",
       "        vertical-align: top;\n",
       "    }\n",
       "\n",
       "    .dataframe thead th {\n",
       "        text-align: right;\n",
       "    }\n",
       "</style>\n",
       "<table border=\"1\" class=\"dataframe\">\n",
       "  <thead>\n",
       "    <tr style=\"text-align: right;\">\n",
       "      <th></th>\n",
       "      <th>d</th>\n",
       "      <th>frequency</th>\n",
       "      <th>mean</th>\n",
       "      <th>variance</th>\n",
       "    </tr>\n",
       "  </thead>\n",
       "  <tbody>\n",
       "    <tr>\n",
       "      <th>0</th>\n",
       "      <td>0</td>\n",
       "      <td>5</td>\n",
       "      <td>2.800000</td>\n",
       "      <td>3.20000</td>\n",
       "    </tr>\n",
       "    <tr>\n",
       "      <th>1</th>\n",
       "      <td>1</td>\n",
       "      <td>2</td>\n",
       "      <td>2.500000</td>\n",
       "      <td>4.50000</td>\n",
       "    </tr>\n",
       "    <tr>\n",
       "      <th>2</th>\n",
       "      <td>2</td>\n",
       "      <td>4</td>\n",
       "      <td>5.000000</td>\n",
       "      <td>0.00000</td>\n",
       "    </tr>\n",
       "    <tr>\n",
       "      <th>3</th>\n",
       "      <td>3</td>\n",
       "      <td>18</td>\n",
       "      <td>2.611111</td>\n",
       "      <td>2.01634</td>\n",
       "    </tr>\n",
       "    <tr>\n",
       "      <th>4</th>\n",
       "      <td>4</td>\n",
       "      <td>2</td>\n",
       "      <td>4.500000</td>\n",
       "      <td>0.50000</td>\n",
       "    </tr>\n",
       "  </tbody>\n",
       "</table>\n",
       "</div>"
      ],
      "text/plain": [
       "   d  frequency      mean  variance\n",
       "0  0          5  2.800000   3.20000\n",
       "1  1          2  2.500000   4.50000\n",
       "2  2          4  5.000000   0.00000\n",
       "3  3         18  2.611111   2.01634\n",
       "4  4          2  4.500000   0.50000"
      ]
     },
     "execution_count": 5,
     "metadata": {},
     "output_type": "execute_result"
    }
   ],
   "source": [
    "songs_df = create_songs_df(df)\n",
    "songs_df.head()"
   ]
  },
  {
   "cell_type": "code",
   "execution_count": null,
   "metadata": {},
   "outputs": [],
   "source": [
    "def perform_selection(songs,threshold=50):\n",
    "    return song__df[song.frequency >= threshold]"
   ]
  },
  {
   "cell_type": "code",
   "execution_count": null,
   "metadata": {},
   "outputs": [],
   "source": [
    "selected_songs = perform_selection(songs_df)\n",
    "new_df = df[df['song_id'].isin(songs_selected.song_id)]\n",
    "\n",
    "new_df.head(10)\n",
    "\n",
    "new_df.to_csv(\"new_cf_dataset.csv\",encoding=\"utf-8\",header=True,index=False)"
   ]
  }
 ],
 "metadata": {
  "kernelspec": {
   "display_name": "Python 3",
   "language": "python",
   "name": "python3"
  },
  "language_info": {
   "codemirror_mode": {
    "name": "ipython",
    "version": 3
   },
   "file_extension": ".py",
   "mimetype": "text/x-python",
   "name": "python",
   "nbconvert_exporter": "python",
   "pygments_lexer": "ipython3",
   "version": "3.7.1"
  }
 },
 "nbformat": 4,
 "nbformat_minor": 2
}
